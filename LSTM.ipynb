{
 "cells": [
  {
   "cell_type": "code",
   "execution_count": 162,
   "metadata": {
    "collapsed": true
   },
   "outputs": [],
   "source": [
    "import pandas as pd\n",
    "import numpy as np\n",
    "import torch\n",
    "import torch.nn as nn\n",
    "full_X = pd.read_csv(\"./update_X.csv\")\n",
    "full_Y = pd.read_csv(\"./update_y.csv\")"
   ]
  },
  {
   "cell_type": "code",
   "execution_count": 163,
   "metadata": {},
   "outputs": [
    {
     "name": "stdout",
     "output_type": "stream",
     "text": [
      "<class 'pandas.core.frame.DataFrame'>\n",
      "RangeIndex: 30845 entries, 0 to 30844\n",
      "Columns: 197 entries, X to Hour_48.SysBP\n",
      "dtypes: float64(196), int64(1)\n",
      "memory usage: 46.4 MB\n"
     ]
    }
   ],
   "source": [
    "full_X.info()"
   ]
  },
  {
   "cell_type": "code",
   "execution_count": 226,
   "metadata": {},
   "outputs": [],
   "source": [
    "X = full_X.drop(['X'],axis=1)\n",
    "Y = full_Y['los_icu_grp'] - 1\n",
    "X_trian = X.head(20000)\n",
    "Y_train = Y.head(20000)\n",
    "X_test = X.tail(10845)\n",
    "Y_test = Y.tail(10845)\n",
    "X_train_tensor = torch.tensor(X_trian.values).resize_(20000,4,49)\n",
    "Y_train_tensor = torch.tensor(Y_train.values)\n",
    "X_test_tensor = torch.tensor(X_test.values).resize_(10845,4,49)\n",
    "Y_test_tensor = torch.tensor(Y_test.values)"
   ]
  },
  {
   "cell_type": "code",
   "execution_count": null,
   "metadata": {
    "collapsed": true
   },
   "outputs": [],
   "source": []
  },
  {
   "cell_type": "code",
   "execution_count": 227,
   "metadata": {},
   "outputs": [
    {
     "name": "stdout",
     "output_type": "stream",
     "text": [
      "torch.Size([20000, 4, 49])\n",
      "torch.Size([20000])\n",
      "torch.Size([10845, 4, 49])\n",
      "torch.Size([10845])\n"
     ]
    }
   ],
   "source": [
    "print(X_train_tensor.size())\n",
    "print(Y_train_tensor.size())\n",
    "print(X_test_tensor.size())\n",
    "print(Y_test_tensor.size())"
   ]
  },
  {
   "cell_type": "code",
   "execution_count": 228,
   "metadata": {},
   "outputs": [
    {
     "name": "stdout",
     "output_type": "stream",
     "text": [
      "torch.Size([10845, 49, 4])\n",
      "torch.Size([10845, 49, 4])\n"
     ]
    }
   ],
   "source": [
    "X_train_tensor = X_train_tensor.transpose(2,1).double()\n",
    "X_test_tensor = X_test_tensor.transpose(2,1).double()\n",
    "print(X_test_tensor.shape)\n",
    "print(X_test_tensor.shape)"
   ]
  },
  {
   "cell_type": "code",
   "execution_count": 229,
   "metadata": {},
   "outputs": [
    {
     "data": {
      "text/plain": [
       "15.0"
      ]
     },
     "execution_count": 229,
     "metadata": {},
     "output_type": "execute_result"
    }
   ],
   "source": [
    "n_iters/(len(train_dataset)/batch_size)"
   ]
  },
  {
   "cell_type": "code",
   "execution_count": 230,
   "metadata": {
    "collapsed": true
   },
   "outputs": [],
   "source": [
    "train_dataset = torch.utils.data.TensorDataset(X_train_tensor,Y_train_tensor)\n",
    "test_dataset = torch.utils.data.TensorDataset(X_test_tensor,Y_test_tensor)\n",
    "batch_size = 100\n",
    "n_iters = 3000\n",
    "num_epochs = n_iters / (len(train_dataset) / batch_size)\n",
    "num_epochs = int(num_epochs)\n",
    "train_loader = torch.utils.data.DataLoader(dataset=train_dataset, \n",
    "                                           batch_size=batch_size, \n",
    "                                           shuffle=True)\n",
    "\n",
    "test_loader = torch.utils.data.DataLoader(dataset=test_dataset, \n",
    "                                          batch_size=batch_size, \n",
    "                                          shuffle=False)"
   ]
  },
  {
   "cell_type": "code",
   "execution_count": 231,
   "metadata": {
    "collapsed": true
   },
   "outputs": [],
   "source": [
    "# Create the model class\n",
    "class LSTMModel(nn.Module):\n",
    "    def __init__(self, input_dim, hidden_dim, layer_dim, output_dim):\n",
    "        super(LSTMModel, self).__init__()\n",
    "        # Hidden dimensions\n",
    "        self.hidden_dim = hidden_dim\n",
    "\n",
    "        # Number of hidden layers\n",
    "        self.layer_dim = layer_dim\n",
    "\n",
    "        # Building your LSTM\n",
    "        # batch_first=True causes input/output tensors to be of shape\n",
    "        # (batch_dim, seq_dim, feature_dim)\n",
    "        self.lstm = nn.LSTM(input_dim, hidden_dim, layer_dim, batch_first=True)\n",
    "\n",
    "        # Readout layer\n",
    "        self.fc = nn.Linear(hidden_dim, output_dim)\n",
    "\n",
    "    def forward(self, x):\n",
    "        # Initialize hidden state with zeros\n",
    "        h0 = torch.zeros(self.layer_dim, x.size(0), self.hidden_dim).requires_grad_()\n",
    "\n",
    "        # Initialize cell state\n",
    "        c0 = torch.zeros(self.layer_dim, x.size(0), self.hidden_dim).requires_grad_()\n",
    "\n",
    "        # 49 time steps\n",
    "        # We need to detach as we are doing truncated backpropagation through time (BPTT)\n",
    "        # If we don't, we'll backprop all the way to the start even after going through another batch\n",
    "        x = torch.tensor(x,dtype=torch.float32)\n",
    "        out, (hn, cn) = self.lstm(x, (h0.detach(), c0.detach()))\n",
    "\n",
    "        # Index hidden state of last time step\n",
    "        # out.size() --> 100, 49, 100\n",
    "        # out[:, -1, :] --> 100, 100 --> just want last time step hidden states! \n",
    "        out = self.fc(out[:, -1, :]) \n",
    "        # out.size() --> 100, 10\n",
    "        return out"
   ]
  },
  {
   "cell_type": "code",
   "execution_count": 232,
   "metadata": {
    "collapsed": true
   },
   "outputs": [],
   "source": [
    "# Instantiate Model Class\n",
    "input_dim = 4\n",
    "hidden_dim = 100\n",
    "layer_dim = 1\n",
    "output_dim = 5\n",
    "\n",
    "model = LSTMModel(input_dim, hidden_dim, layer_dim, output_dim)"
   ]
  },
  {
   "cell_type": "code",
   "execution_count": 233,
   "metadata": {
    "collapsed": true
   },
   "outputs": [],
   "source": [
    "# Loss function\n",
    "criterion = nn.CrossEntropyLoss()"
   ]
  },
  {
   "cell_type": "code",
   "execution_count": 244,
   "metadata": {
    "collapsed": true
   },
   "outputs": [],
   "source": [
    "# Optimizer class\n",
    "learning_rate = 0.005\n",
    "#optimizer = torch.optim.SGD(model.parameters(), lr=learning_rate)  \n",
    "optimizer = torch.optim.Adam(model.parameters(), lr=learning_rate)  "
   ]
  },
  {
   "cell_type": "code",
   "execution_count": 245,
   "metadata": {},
   "outputs": [
    {
     "data": {
      "text/plain": [
       "6"
      ]
     },
     "execution_count": 245,
     "metadata": {},
     "output_type": "execute_result"
    }
   ],
   "source": [
    "len(list(model.parameters()))"
   ]
  },
  {
   "cell_type": "code",
   "execution_count": 246,
   "metadata": {},
   "outputs": [
    {
     "name": "stdout",
     "output_type": "stream",
     "text": [
      "torch.Size([400, 4])\n",
      "torch.Size([400, 100])\n",
      "torch.Size([400])\n",
      "torch.Size([400])\n",
      "torch.Size([5, 100])\n",
      "torch.Size([5])\n"
     ]
    }
   ],
   "source": [
    "for i in range(len(list(model.parameters()))):\n",
    "    print(list(model.parameters())[i].size())"
   ]
  },
  {
   "cell_type": "code",
   "execution_count": null,
   "metadata": {},
   "outputs": [
    {
     "name": "stderr",
     "output_type": "stream",
     "text": [
      "//anaconda/envs/3/lib/python3.5/site-packages/ipykernel_launcher.py:29: UserWarning: To copy construct from a tensor, it is recommended to use sourceTensor.clone().detach() or sourceTensor.clone().detach().requires_grad_(True), rather than torch.tensor(sourceTensor).\n"
     ]
    },
    {
     "name": "stdout",
     "output_type": "stream",
     "text": [
      "Iteration: 3. Loss: 0.4906065762042999. Accuracy: 85\n",
      "Iteration: 6. Loss: 0.6029531955718994. Accuracy: 85\n",
      "Iteration: 9. Loss: 0.6363340020179749. Accuracy: 85\n",
      "Iteration: 12. Loss: 0.528878927230835. Accuracy: 85\n",
      "Iteration: 15. Loss: 0.6317803859710693. Accuracy: 85\n",
      "Iteration: 18. Loss: 0.4884442090988159. Accuracy: 85\n",
      "Iteration: 21. Loss: 0.5391638875007629. Accuracy: 85\n",
      "Iteration: 24. Loss: 0.38003838062286377. Accuracy: 85\n",
      "Iteration: 27. Loss: 0.6850119233131409. Accuracy: 85\n",
      "Iteration: 30. Loss: 0.6044291853904724. Accuracy: 85\n",
      "Iteration: 33. Loss: 0.6847351789474487. Accuracy: 85\n",
      "Iteration: 36. Loss: 0.5203711986541748. Accuracy: 85\n",
      "Iteration: 39. Loss: 0.5438717007637024. Accuracy: 85\n",
      "Iteration: 42. Loss: 0.4698109030723572. Accuracy: 85\n",
      "Iteration: 45. Loss: 0.6054216623306274. Accuracy: 85\n",
      "Iteration: 48. Loss: 0.5050232410430908. Accuracy: 85\n",
      "Iteration: 51. Loss: 0.5381388068199158. Accuracy: 85\n",
      "Iteration: 54. Loss: 0.5695299506187439. Accuracy: 85\n",
      "Iteration: 57. Loss: 0.49568355083465576. Accuracy: 85\n",
      "Iteration: 60. Loss: 0.4964723289012909. Accuracy: 85\n",
      "Iteration: 63. Loss: 0.5232284665107727. Accuracy: 85\n",
      "Iteration: 66. Loss: 0.7057601809501648. Accuracy: 85\n",
      "Iteration: 69. Loss: 0.5599719882011414. Accuracy: 85\n",
      "Iteration: 72. Loss: 0.5675362944602966. Accuracy: 85\n",
      "Iteration: 75. Loss: 0.5396968722343445. Accuracy: 85\n",
      "Iteration: 78. Loss: 0.6472696661949158. Accuracy: 85\n",
      "Iteration: 81. Loss: 0.5746173858642578. Accuracy: 85\n",
      "Iteration: 84. Loss: 0.45514190196990967. Accuracy: 85\n",
      "Iteration: 87. Loss: 0.5461983680725098. Accuracy: 85\n",
      "Iteration: 90. Loss: 0.49578627943992615. Accuracy: 85\n",
      "Iteration: 93. Loss: 0.6069988012313843. Accuracy: 85\n",
      "Iteration: 96. Loss: 0.5032515525817871. Accuracy: 85\n",
      "Iteration: 99. Loss: 0.5961740612983704. Accuracy: 85\n",
      "Iteration: 102. Loss: 0.6832746863365173. Accuracy: 85\n",
      "Iteration: 105. Loss: 0.4946381747722626. Accuracy: 85\n",
      "Iteration: 108. Loss: 0.6557047963142395. Accuracy: 85\n",
      "Iteration: 111. Loss: 0.5845226645469666. Accuracy: 85\n",
      "Iteration: 114. Loss: 0.7683446407318115. Accuracy: 85\n",
      "Iteration: 117. Loss: 0.5164878964424133. Accuracy: 85\n",
      "Iteration: 120. Loss: 0.4749530851840973. Accuracy: 85\n",
      "Iteration: 123. Loss: 0.5364270210266113. Accuracy: 85\n",
      "Iteration: 126. Loss: 0.5389336943626404. Accuracy: 85\n",
      "Iteration: 129. Loss: 0.4683467745780945. Accuracy: 85\n",
      "Iteration: 132. Loss: 0.5969964861869812. Accuracy: 85\n",
      "Iteration: 135. Loss: 0.5449573993682861. Accuracy: 85\n",
      "Iteration: 138. Loss: 0.4088456332683563. Accuracy: 85\n",
      "Iteration: 141. Loss: 0.6628237366676331. Accuracy: 85\n",
      "Iteration: 144. Loss: 0.7533819079399109. Accuracy: 85\n",
      "Iteration: 147. Loss: 0.42573583126068115. Accuracy: 85\n",
      "Iteration: 150. Loss: 0.7646154165267944. Accuracy: 85\n",
      "Iteration: 153. Loss: 0.4091588854789734. Accuracy: 85\n",
      "Iteration: 156. Loss: 0.4616243243217468. Accuracy: 85\n",
      "Iteration: 159. Loss: 0.7984312176704407. Accuracy: 85\n",
      "Iteration: 162. Loss: 0.469550222158432. Accuracy: 85\n",
      "Iteration: 165. Loss: 0.6990534067153931. Accuracy: 85\n",
      "Iteration: 168. Loss: 0.4609915018081665. Accuracy: 85\n",
      "Iteration: 171. Loss: 0.5132894515991211. Accuracy: 85\n",
      "Iteration: 174. Loss: 0.5370407700538635. Accuracy: 85\n",
      "Iteration: 177. Loss: 0.572668731212616. Accuracy: 85\n",
      "Iteration: 180. Loss: 0.46646058559417725. Accuracy: 85\n",
      "Iteration: 183. Loss: 0.7036781311035156. Accuracy: 85\n",
      "Iteration: 186. Loss: 0.44364193081855774. Accuracy: 85\n",
      "Iteration: 189. Loss: 0.5934000611305237. Accuracy: 85\n",
      "Iteration: 192. Loss: 0.5398886799812317. Accuracy: 85\n",
      "Iteration: 195. Loss: 0.540740966796875. Accuracy: 85\n"
     ]
    }
   ],
   "source": [
    "# Train Model\n",
    "\n",
    "#Training 1 Hidden Layer LSTM\n",
    "# Number of steps to unroll\n",
    "seq_dim = 49\n",
    "iter = 0\n",
    "loss_ = list();\n",
    "for epoch in range(num_epochs):\n",
    "    for i, (features, labels) in enumerate(train_loader):\n",
    "        # Load features as a torch tensor with gradient accumulation abilities\n",
    "        features = features.view(-1, seq_dim, input_dim).requires_grad_()\n",
    "        # Clear gradients w.r.t. parameters\n",
    "        optimizer.zero_grad()\n",
    "\n",
    "        # Forward pass to get output/logits\n",
    "        # outputs.size() --> 100, 5\n",
    "        outputs = model(features)\n",
    "        \n",
    "        # Calculate Loss: softmax --> cross entropy loss\n",
    "        loss = criterion(outputs, labels)\n",
    "        \n",
    "        # Getting gradients w.r.t. parameters\n",
    "        loss.backward()\n",
    "\n",
    "        # Updating parameters\n",
    "        optimizer.step()\n",
    "\n",
    "        iter += 1\n",
    "        \n",
    "        if iter % 500 == 0:\n",
    "            # Calculate Accuracy         \n",
    "            correct = 0\n",
    "            total = 0\n",
    "            # Iterate through test dataset\n",
    "            for f, l in test_loader:\n",
    "                # Resize images\n",
    "                f = f.view(-1, seq_dim, input_dim)\n",
    "\n",
    "                # Forward pass only to get logits/output\n",
    "                outputs = model(f)\n",
    "\n",
    "                # Get predictions from the maximum value\n",
    "                _, predicted = torch.max(outputs.data, 1)\n",
    "\n",
    "                # Total number of labels\n",
    "                total += l.size(0)\n",
    "\n",
    "                # Total correct predictions\n",
    "                correct += (predicted == l).sum()\n",
    "\n",
    "            accuracy = 100 * correct / total\n",
    "            # Print Loss\n",
    "            loss_.append(loss.item())\n",
    "            print('Iteration: {}. Loss: {}. Accuracy: {}'.format(iter, loss.item(), accuracy))"
   ]
  },
  {
   "cell_type": "code",
   "execution_count": null,
   "metadata": {
    "collapsed": true
   },
   "outputs": [],
   "source": []
  }
 ],
 "metadata": {
  "kernelspec": {
   "display_name": "Python 3",
   "language": "python",
   "name": "python3"
  },
  "language_info": {
   "codemirror_mode": {
    "name": "ipython",
    "version": 3
   },
   "file_extension": ".py",
   "mimetype": "text/x-python",
   "name": "python",
   "nbconvert_exporter": "python",
   "pygments_lexer": "ipython3",
   "version": "3.5.3"
  }
 },
 "nbformat": 4,
 "nbformat_minor": 2
}
