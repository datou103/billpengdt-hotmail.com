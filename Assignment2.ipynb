{
 "cells": [
  {
   "cell_type": "code",
   "execution_count": 25,
   "metadata": {
    "collapsed": true
   },
   "outputs": [],
   "source": [
    "import pandas as pd\n",
    "import numpy as np\n",
    "import matplotlib.pyplot as plt"
   ]
  },
  {
   "cell_type": "code",
   "execution_count": 26,
   "metadata": {
    "collapsed": true
   },
   "outputs": [],
   "source": [
    "full = pd.read_csv('./impute_clean_data.csv')\n",
    "y = full[['los_icu_grp']]\n",
    "y_catigoricalDF = pd.get_dummies(full['los_icu_grp'],prefix='los_icu_grp')\n",
    "x = full.drop(['los_icu_grp'],axis=1)"
   ]
  },
  {
   "cell_type": "code",
   "execution_count": 27,
   "metadata": {
    "collapsed": true
   },
   "outputs": [],
   "source": [
    "import torch\n",
    "import torchvision\n",
    "from torch.autograd import Variable\n",
    "import torch.nn.functional as F"
   ]
  },
  {
   "cell_type": "code",
   "execution_count": 28,
   "metadata": {
    "collapsed": true
   },
   "outputs": [],
   "source": [
    "x_train = x.head(30000)\n",
    "x_test = x.tail(12697)\n",
    "y_train = y_catigoricalDF.head(30000)\n",
    "y_test = y_catigoricalDF.tail(12697)"
   ]
  },
  {
   "cell_type": "code",
   "execution_count": 29,
   "metadata": {},
   "outputs": [
    {
     "name": "stdout",
     "output_type": "stream",
     "text": [
      "torch.Size([30000, 101])\n",
      "torch.Size([12697, 101])\n",
      "torch.Size([30000, 5])\n",
      "torch.Size([12697, 5])\n"
     ]
    }
   ],
   "source": [
    "dtype = torch.FloatTensor\n",
    "X_train = torch.from_numpy(x_train.values).type(dtype)\n",
    "X_test = torch.from_numpy(x_test.values).type(dtype)\n",
    "Y_train = torch.from_numpy(y_train.values).type(dtype)\n",
    "Y_test = torch.from_numpy(y_test.values).type(dtype)\n",
    "print(X_train.shape)\n",
    "print(X_test.shape)\n",
    "print(Y_train.shape)\n",
    "print(Y_test.shape)"
   ]
  },
  {
   "cell_type": "code",
   "execution_count": 30,
   "metadata": {
    "collapsed": true
   },
   "outputs": [],
   "source": [
    "N, D_in, H1, H2, D_out = 30000, 101, 100, 200 , 5\n",
    "w1 = Variable(torch.randn(D_in,H1).type(dtype),requires_grad=True)\n",
    "w2 = Variable(torch.randn(H1,H2).type(dtype),requires_grad=True)\n",
    "w3 = Variable(torch.randn(H2,D_out).type(dtype),requires_grad=True)"
   ]
  },
  {
   "cell_type": "code",
   "execution_count": 31,
   "metadata": {
    "collapsed": true
   },
   "outputs": [],
   "source": [
    "model = torch.nn.Sequential(\n",
    "    torch.nn.Linear(D_in,H1),\n",
    "    torch.nn.ReLU(),\n",
    "    torch.nn.Linear(H1,H2),\n",
    "    torch.nn.ReLU(),\n",
    "    torch.nn.Linear(H2,D_out),\n",
    "    #torch.nn.ReLU(),\n",
    "    #torch.nn.Sigmoid(),\n",
    ")\n",
    "\n",
    "#loss_fn = torch.nn.MSELoss(reduction='mean')\n",
    "#loss_fn = torch.nn.L1Loss(reduction='mean')\n",
    "loss_fn = torch.nn.SmoothL1Loss(reduction='mean')\n",
    "learning_rate = 1e-3\n",
    "optimizer = torch.optim.Adam(model.parameters(), lr=learning_rate)\n",
    "#optimizer = torch.optim.Adadelta(model.parameters(),lr=learning_rate)"
   ]
  },
  {
   "cell_type": "code",
   "execution_count": null,
   "metadata": {
    "collapsed": true
   },
   "outputs": [],
   "source": [
    "for t in range(1000):\n",
    "    y_pred = model(X_train)\n",
    "    loss = loss_fn(y_pred,Y_train)\n",
    "    #print(t,loss.data)\n",
    "    model.zero_grad()\n",
    "    loss.backward()\n",
    "    for param in model.parameters():\n",
    "        param.data -= learning_rate * param.grad.data\n",
    "print(t,loss.item())"
   ]
  },
  {
   "cell_type": "code",
   "execution_count": null,
   "metadata": {
    "collapsed": true
   },
   "outputs": [],
   "source": [
    "_, Y_label_test = Y_test.max(1)\n",
    "model.eval() # turn the model into evaluation mode\n",
    "out = model(X_test)\n",
    "_, pred = out.max(1)\n",
    "num_correct = (pred == Y_label_test).sum().item()\n",
    "num_correct / 12697"
   ]
  },
  {
   "cell_type": "code",
   "execution_count": null,
   "metadata": {
    "collapsed": true
   },
   "outputs": [],
   "source": []
  }
 ],
 "metadata": {
  "kernelspec": {
   "display_name": "Python 3",
   "language": "python",
   "name": "python3"
  },
  "language_info": {
   "codemirror_mode": {
    "name": "ipython",
    "version": 3
   },
   "file_extension": ".py",
   "mimetype": "text/x-python",
   "name": "python",
   "nbconvert_exporter": "python",
   "pygments_lexer": "ipython3",
   "version": "3.5.3"
  }
 },
 "nbformat": 4,
 "nbformat_minor": 2
}
